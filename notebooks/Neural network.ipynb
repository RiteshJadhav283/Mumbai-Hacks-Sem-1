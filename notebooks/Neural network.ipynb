{
 "cells": [
  {
   "cell_type": "code",
   "execution_count": null,
   "metadata": {},
   "outputs": [],
   "source": [
    "import tensorflow as tf\n",
    "from keras.models import Sequential\n",
    "from keras.layers import Dense\n",
    "import numpy as np\n",
    "\n",
    "# Generate some example data (replace this with your actual data)\n",
    "X_train = np.random.rand(1000, 10)  # 1000 samples, 10 features\n",
    "y_train = np.random.rand(1000, 1)   # 1000 target values\n",
    "\n",
    "# Define the model\n",
    "model = Sequential()\n",
    "model.add(Dense(64, activation='relu', input_shape=(10,)))  # Adjust input shape\n",
    "model.add(Dense(32, activation='relu'))\n",
    "model.add(Dense(1))  # Adjust output layer as needed\n",
    "\n",
    "# Compile the model\n",
    "model.compile(optimizer='adam', loss='mean_squared_error')\n",
    "\n",
    "# Train the model\n",
    "model.fit(X_train, y_train, epochs=10, batch_size=32)\n",
    "\n",
    "# Save the model\n",
    "model.save('../models/trained_genai_model.h5')  # Use .h5 for consistency\n",
    "\n",
    "# Load the model (in a separate cell or script)\n",
    "loaded_model = tf.keras.models.load_model('../models/trained_genai_model.h5')\n",
    "\n",
    "# Now you can use loaded_model for predictions\n"
   ]
  }
 ],
 "metadata": {
  "kernelspec": {
   "display_name": "Python 3",
   "language": "python",
   "name": "python3"
  },
  "language_info": {
   "name": "python",
   "version": "3.12.6"
  }
 },
 "nbformat": 4,
 "nbformat_minor": 2
}
