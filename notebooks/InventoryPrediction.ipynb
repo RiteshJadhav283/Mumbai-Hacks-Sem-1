{
 "cells": [
  {
   "cell_type": "code",
   "execution_count": null,
   "metadata": {},
   "outputs": [],
   "source": [
    "import tensorflow as tf\n",
    "import joblib\n",
    "import pandas as pd\n",
    "from keras._tf_keras.keras.models import load_model\n",
    "from \n",
    "\n",
    "def load_trained_model():\n",
    "    try:\n",
    "        model = load_model('../models/trained_genai_model.h5')\n",
    "        scaler = joblib.load('../models/scaler.pkl')\n",
    "    except FileNotFoundError:\n",
    "        print(\"Error: Model or scaler file not found.\")\n",
    "        return None, None\n",
    "    except Exception as e:\n",
    "        print(f\"An error occurred while loading the model or scaler: {e}\")\n",
    "        return None, None\n",
    "    return model, scaler\n",
    "\n",
    "def predict_inventory(file_path):\n",
    "    # Load model and scaler\n",
    "    model, scaler = load_trained_model()\n",
    "    \n",
    "    if model is None or scaler is None:\n",
    "        print(\"Error: Loading model or scaler failed. Prediction aborted.\")\n",
    "        return\n",
    "\n",
    "    # Load the data for testing (or use new incoming data)\n",
    "    data, _, _ = load_data(file_path)\n",
    "    \n",
    "    if data is None:\n",
    "        print(\"Error: Loading data failed. Prediction aborted.\")\n",
    "        return\n",
    "\n",
    "    scaled_data = scaler.transform(data)\n",
    "\n",
    "    # Generate predictions\n",
    "    predictions = model.predict(scaled_data)\n",
    "    unscaled_predictions = scaler.inverse_transform(predictions)\n",
    "\n",
    "    # Display results\n",
    "    df_results = pd.DataFrame(unscaled_predictions, columns=['Predicted_Sales_Quantity', 'Predicted_Inventory'])\n",
    "    print(\"Predicted Results:\", df_results.head())\n",
    "\n",
    "if __name__ == \"__main__\":\n",
    "    predict_inventory('../data/ML-Dataset.csv')\n"
   ]
  }
 ],
 "metadata": {
  "kernelspec": {
   "display_name": "Python 3",
   "language": "python",
   "name": "python3"
  },
  "language_info": {
   "name": "python",
   "version": "3.12.6"
  }
 },
 "nbformat": 4,
 "nbformat_minor": 2
}
